{
 "cells": [
  {
   "cell_type": "code",
   "execution_count": 2,
   "id": "8e8d199e-6807-4982-ac4a-7bf37925307d",
   "metadata": {},
   "outputs": [
    {
     "name": "stderr",
     "output_type": "stream",
     "text": [
      "2025-05-24 14:05:08.682 Thread 'MainThread': missing ScriptRunContext! This warning can be ignored when running in bare mode.\n",
      "2025-05-24 14:05:08.683 Thread 'MainThread': missing ScriptRunContext! This warning can be ignored when running in bare mode.\n",
      "2025-05-24 14:05:08.687 Thread 'MainThread': missing ScriptRunContext! This warning can be ignored when running in bare mode.\n",
      "2025-05-24 14:05:08.688 Thread 'MainThread': missing ScriptRunContext! This warning can be ignored when running in bare mode.\n",
      "2025-05-24 14:05:08.713 Thread 'MainThread': missing ScriptRunContext! This warning can be ignored when running in bare mode.\n",
      "2025-05-24 14:05:08.714 Thread 'MainThread': missing ScriptRunContext! This warning can be ignored when running in bare mode.\n"
     ]
    },
    {
     "data": {
      "text/plain": [
       "DeltaGenerator()"
      ]
     },
     "execution_count": 2,
     "metadata": {},
     "output_type": "execute_result"
    }
   ],
   "source": [
    "#Produção Agrícola Bruta (US$ B)\n",
    "\n",
    "#Este app foi desenvolvido com Python, Pandas e Streamlit para visualizar dados sobre a Produção Agrícola Bruta de diversos países ao longo dos anos.\n",
    "\n",
    "#Os dados foram obtidos da United Nations Data e estão disponíveis neste repositório.\n",
    "\n",
    "#Autor: Van Pontes\n",
    "#Site: https://rochapontesbi.com.br\n",
    "#Repositório: https://github.com/vanrpontes/Producao-Agricola-Bruta-US-B\n",
    "\n",
    "\n",
    "#Importando bibliotecas Pandas e Streamlit\n",
    "import pandas as pd\n",
    "import streamlit as st\n",
    "\n",
    "#Acessando o Dataset\n",
    "df = pd.read_csv (r\"C:\\Users\\vrpon\\Documents\\GitHub\\Producao-Agricola-Bruta-US-B\\data\\agri.csv\")\n",
    "\n",
    "#Título do App\n",
    "st.title(\"📊 Produção Agrícola Bruta (US$ B)\")\n",
    "\n",
    "#Mostrar resumo do dataset\n",
    "st.subheader(\"Visualização Inicial do Dataset\")\n",
    "st.dataframe(df.head())\n"
   ]
  },
  {
   "cell_type": "code",
   "execution_count": null,
   "id": "1f10e257-fb2d-4297-b901-6fd9aeb3aa53",
   "metadata": {},
   "outputs": [],
   "source": []
  }
 ],
 "metadata": {
  "kernelspec": {
   "display_name": "Python 3 (ipykernel)",
   "language": "python",
   "name": "python3"
  },
  "language_info": {
   "codemirror_mode": {
    "name": "ipython",
    "version": 3
   },
   "file_extension": ".py",
   "mimetype": "text/x-python",
   "name": "python",
   "nbconvert_exporter": "python",
   "pygments_lexer": "ipython3",
   "version": "3.9.21"
  }
 },
 "nbformat": 4,
 "nbformat_minor": 5
}
